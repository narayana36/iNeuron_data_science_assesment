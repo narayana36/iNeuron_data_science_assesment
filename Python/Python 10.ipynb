{
 "cells": [
  {
   "cell_type": "markdown",
   "id": "c4c998fe",
   "metadata": {},
   "source": [
    "<b> Question 10 <b>\n",
    " - Write a program to count the number of verbs, nouns, pronouns, and adjectives in a given particular phrase or\n",
    "paragraph, and return their respective count as a dictionary"
   ]
  },
  {
   "cell_type": "code",
   "execution_count": 1,
   "id": "f856ecc3",
   "metadata": {},
   "outputs": [
    {
     "name": "stdout",
     "output_type": "stream",
     "text": [
      "{'verbs': 3, 'nouns': 1, 'pronouns': 2, 'adjectives': 1}\n"
     ]
    }
   ],
   "source": [
    "import nltk\n",
    "from nltk.tokenize import word_tokenize #\n",
    "from nltk.tag import pos_tag\n",
    "\n",
    "def count_pos_tages(text):\n",
    "    #text into words using tokenize\n",
    "    words=word_tokenize(text)\n",
    "     #def part of speech of tagged word\n",
    "    tagged_words=pos_tag(words)\n",
    "    \n",
    "    #counts of dictionary\n",
    "    counts={\n",
    "        'verbs':0,\n",
    "        'nouns':0,\n",
    "        'pronouns':0,\n",
    "        'adjectives':0\n",
    "    }\n",
    "    \n",
    "    #Count the verbs, nouns, pronouns and adjectves\n",
    "    for word,tag in tagged_words:\n",
    "        if tag.startswith('V'):   #Verb\n",
    "            counts['verbs']+=1\n",
    "        elif tag.startswith('N'): #Noun\n",
    "            counts['nouns']+=1\n",
    "        elif tag=='PRP' or tag=='PRP$': #Pronoun\n",
    "            counts['pronouns']+=1\n",
    "        elif tag.startswith('J'): #Adjective\n",
    "            counts['adjectives']+=1\n",
    "    return counts\n",
    "#given user input as text\n",
    "text='I love eating Biryani. It is very testy'\n",
    "output=count_pos_tages(text)\n",
    "print(output)"
   ]
  },
  {
   "cell_type": "code",
   "execution_count": null,
   "id": "890247ab",
   "metadata": {},
   "outputs": [],
   "source": []
  }
 ],
 "metadata": {
  "kernelspec": {
   "display_name": "Python 3 (ipykernel)",
   "language": "python",
   "name": "python3"
  },
  "language_info": {
   "codemirror_mode": {
    "name": "ipython",
    "version": 3
   },
   "file_extension": ".py",
   "mimetype": "text/x-python",
   "name": "python",
   "nbconvert_exporter": "python",
   "pygments_lexer": "ipython3",
   "version": "3.9.13"
  }
 },
 "nbformat": 4,
 "nbformat_minor": 5
}
