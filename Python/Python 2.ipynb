{
 "cells": [
  {
   "cell_type": "markdown",
   "id": "304ebb98",
   "metadata": {},
   "source": [
    "<b>Question 2:<b> \n",
    " - Consider a string to be valid if all characters of the string appear the same number of times. It is also valid if\n",
    "he can remove just one character at the index in the string, and the remaining characters will occur the same\n",
    "number of times. Given a string, determine if it is valid. If so, return YES , otherwise return NO ."
   ]
  },
  {
   "cell_type": "code",
   "execution_count": 6,
   "id": "3ef0520a",
   "metadata": {},
   "outputs": [],
   "source": [
    "from collections import Counter\n",
    "def valid(str):\n",
    "    freq = Counter(str)\n",
    "\n",
    "    # Converting these values to list\n",
    "    valuelist = list(freq.values())\n",
    "\n",
    "    # Counting frequencies again\n",
    "    ValueCounter = Counter(valuelist)\n",
    "    if(len(ValueCounter) == 1):\n",
    "        return \"YES\"\n",
    "    elif(len(ValueCounter) == 2 and\n",
    "        ValueCounter.values() == 1):\n",
    "        return \"YES\"\n",
    "\n",
    "    # If no conditions satisfied return false\n",
    "    return \"NO\""
   ]
  },
  {
   "cell_type": "code",
   "execution_count": 7,
   "id": "07c806a0",
   "metadata": {},
   "outputs": [
    {
     "data": {
      "text/plain": [
       "'YES'"
      ]
     },
     "execution_count": 7,
     "metadata": {},
     "output_type": "execute_result"
    }
   ],
   "source": [
    "#Test Case 1\n",
    "valid('abc')"
   ]
  },
  {
   "cell_type": "code",
   "execution_count": 8,
   "id": "4d1073fb",
   "metadata": {},
   "outputs": [
    {
     "data": {
      "text/plain": [
       "'NO'"
      ]
     },
     "execution_count": 8,
     "metadata": {},
     "output_type": "execute_result"
    }
   ],
   "source": [
    "#Test case\n",
    "valid('abcc')"
   ]
  },
  {
   "cell_type": "code",
   "execution_count": null,
   "id": "f255e7a1",
   "metadata": {},
   "outputs": [],
   "source": []
  }
 ],
 "metadata": {
  "kernelspec": {
   "display_name": "Python 3 (ipykernel)",
   "language": "python",
   "name": "python3"
  },
  "language_info": {
   "codemirror_mode": {
    "name": "ipython",
    "version": 3
   },
   "file_extension": ".py",
   "mimetype": "text/x-python",
   "name": "python",
   "nbconvert_exporter": "python",
   "pygments_lexer": "ipython3",
   "version": "3.9.13"
  }
 },
 "nbformat": 4,
 "nbformat_minor": 5
}
