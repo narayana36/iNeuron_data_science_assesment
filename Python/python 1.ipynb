{
 "cells": [
  {
   "cell_type": "markdown",
   "id": "92121e1a",
   "metadata": {},
   "source": [
    "<b>Question 1:<b>\n",
    "- Write a program that takes a string as input, and counts the frequency of each word in the string, there might be repeated characters in the string. Your task is to find the highest frequency and return the length of the highest-frequency word."
   ]
  },
  {
   "cell_type": "code",
   "execution_count": 1,
   "id": "304eedd6",
   "metadata": {},
   "outputs": [],
   "source": [
    "def highest_frequency_word(str): \n",
    "    words=str.split(' ') #Split of each word in the string\n",
    "    frequency={} #dictionary store word frequencies\n",
    "    for word in words:\n",
    "        if word in frequency:\n",
    "            frequency[word]+=1 #Count of the each word frequency\n",
    "        else:\n",
    "            frequency[word]=1\n",
    "    highest_frequency=max(frequency.values()) #count highest frequency \n",
    "    highest_frequency_word=[word for word,freq in frequency.items() if freq==highest_frequency][0]\n",
    "    print('The highest frequency word is:\\n \"{}\"'.format(highest_frequency_word))\n",
    "    return len(highest_frequency_word) #length of highest frequnecy word\n"
   ]
  },
  {
   "cell_type": "code",
   "execution_count": 2,
   "id": "8ffecb11",
   "metadata": {},
   "outputs": [
    {
     "name": "stdout",
     "output_type": "stream",
     "text": [
      "The highest frequency word is:\n",
      " \"write\"\n",
      "The highest frequency word length is:\n",
      " 5\n"
     ]
    }
   ],
   "source": [
    "#Test Case 1\n",
    "str1=\"write write write all the number from from from 1 to 100\"\n",
    "case1=highest_frequency_word(str1)\n",
    "print(\"The highest frequency word length is:\\n\",case1)"
   ]
  },
  {
   "cell_type": "code",
   "execution_count": 3,
   "id": "625d38d4",
   "metadata": {},
   "outputs": [
    {
     "name": "stdout",
     "output_type": "stream",
     "text": [
      "The highest frequency word is:\n",
      " \"python\"\n",
      "The highest frequency word length is:\n",
      " 6\n"
     ]
    }
   ],
   "source": [
    "#Test case 2\n",
    "str2='python is most popular language and python is easy learn'\n",
    "case2=highest_frequency_word(str2)\n",
    "print(\"The highest frequency word length is:\\n\",case2)"
   ]
  },
  {
   "cell_type": "code",
   "execution_count": null,
   "id": "b74b15cc",
   "metadata": {},
   "outputs": [],
   "source": []
  }
 ],
 "metadata": {
  "kernelspec": {
   "display_name": "Python 3 (ipykernel)",
   "language": "python",
   "name": "python3"
  },
  "language_info": {
   "codemirror_mode": {
    "name": "ipython",
    "version": 3
   },
   "file_extension": ".py",
   "mimetype": "text/x-python",
   "name": "python",
   "nbconvert_exporter": "python",
   "pygments_lexer": "ipython3",
   "version": "3.9.13"
  }
 },
 "nbformat": 4,
 "nbformat_minor": 5
}
