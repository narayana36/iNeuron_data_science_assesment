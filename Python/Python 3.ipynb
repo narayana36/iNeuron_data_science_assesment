{
 "cells": [
  {
   "cell_type": "markdown",
   "id": "f3efffb5",
   "metadata": {},
   "source": [
    "<b> Question 3: <b> \n",
    "  - Write a program, which would download the data from the provided link, and then read the data and convert\n",
    "that into properly structured data and return it in Excel format."
   ]
  },
  {
   "cell_type": "code",
   "execution_count": null,
   "id": "9c1a82dc",
   "metadata": {},
   "outputs": [],
   "source": [
    "import requests\n",
    "import pandas as pd\n",
    "\n",
    "# Download the data from the provided link\n",
    "url = \"https://raw.githubusercontent.com/Biuni/PokemonGO-Pokedex/master/pokedex.json\"\n",
    "response = requests.get(url)\n",
    "data = response.json()\n",
    "\n",
    "# Extract the relevant information from the downloaded data\n",
    "pokemon_list = data.get(\"pokemon\", [])\n",
    "\n",
    "# Create a DataFrame to store the extracted data\n",
    "df = pd.DataFrame(columns=['id','num',\"name\",'img', \"Type\", \"Height\", \"Weight\",\"candy\",\"candy_count\",\"egg\",\"spawn_chance\",\"avg_spawns\",\"spawn_time\",\"multipliers\",\"weaknesses\",\"next_evolution\",\"prev_evolution\"])\n",
    "\n",
    "\n",
    "# Iterate over each Pokemon and extract the required fields\n",
    "for pokemon in pokemon_list:\n",
    "    \n",
    "    id=pokemon.get(\"id\")\n",
    "    num=pokemon.get(\"num\")\n",
    "    name = pokemon.get(\"name\")\n",
    "    types = \", \".join(pokemon.get(\"type\", []))\n",
    "    height = pokemon.get(\"height\")\n",
    "    weight = pokemon.get(\"weight\")\n",
    "    candys = pokemon.get(\"candy\")\n",
    "    candy_count = pokemon.get(\"candy_count\")\n",
    "    egg = pokemon.get(\"candy_count\")\n",
    "    spawn_chance = pokemon.get(\"spawn_chance\")\n",
    "    avg_spawns = pokemon.get(\"avg_spawns\")\n",
    "    spawn_time = pokemon.get(\"spawn_time\")\n",
    "    multipliers = \" ,\".join(pokemon.get(\"multiplier\",[]))\n",
    "    weaknesses = \", \".join(pokemon.get(\"weaknesses\", []))\n",
    "    next_evolutions = \" ,\".join(pokemon.get(\"next_evolution\",[]))\n",
    "    prev_evolutions = \" ,\".join(pokemon.get(\"prev_evolution\",[{'num','name'}]))\n",
    "    # Append the extracted data to the DataFrame\n",
    "    df = df.append({\"ID\":id,\"Num\":num,\"Name\": name, \"Type\": types, \"Height\": height, \"Weight\": weight,\"Candy\":candys,\"Candy_Count\":candy_count,\"Egg\":egg,\"Spawn_chance\":spawn_chance,\"Avg_spawns\":avg_spawns,\n",
    "                    \"spawn_time\":spawn_time,\"Multipliers\":multipliers,\"Weaknesses\":weaknesses,\"Next_evolution\":next_evolution,\"Prev_evolution\":prev_evolution}, ignore_index=True)\n",
    "\n",
    "# Convert the DataFrame to an Excel file\n",
    "#excel_filename = \"pokemon_data.xlsx\"\n",
    "#df.to_excel(excel_filename, index=False)\n",
    "\n",
    "#print(f\"Data downloaded and saved to {excel_filename}\")"
   ]
  }
 ],
 "metadata": {
  "kernelspec": {
   "display_name": "Python 3 (ipykernel)",
   "language": "python",
   "name": "python3"
  },
  "language_info": {
   "codemirror_mode": {
    "name": "ipython",
    "version": 3
   },
   "file_extension": ".py",
   "mimetype": "text/x-python",
   "name": "python",
   "nbconvert_exporter": "python",
   "pygments_lexer": "ipython3",
   "version": "3.9.13"
  }
 },
 "nbformat": 4,
 "nbformat_minor": 5
}
